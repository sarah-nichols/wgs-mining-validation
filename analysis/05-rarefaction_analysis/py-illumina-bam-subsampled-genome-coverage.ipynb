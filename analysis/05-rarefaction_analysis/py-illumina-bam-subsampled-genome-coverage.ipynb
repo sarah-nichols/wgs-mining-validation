{
 "cells": [
  {
   "cell_type": "markdown",
   "metadata": {},
   "source": [
    "\n",
    "\n",
    "# Plot genome coverage for subsampled reads\n",
    "\n",
    "> - author: Peter Kruczkiewicz\n",
    "> - date:  2021-08-30\n",
    "\n",
    "This Jupyter Notebook is for generating line plots of genome coverage for reads subsampled from input BAM files for different samples, i.e. what is the genome coverage at a particular depth if you were to randomly subsample 1 to X reads for a particular sample.\n",
    "\n",
    "## Dependencies\n",
    "\n",
    "Install dependencies with:\n",
    "\n",
    "```bash\n",
    "pip install numpy=1.21.2 pandas pysam tqdm seaborn matplotlib plotnine\n",
    "```\n",
    "\n",
    "## Parameters\n",
    "\n",
    "- `inputdir`: directory with BAM files with reads mapped to a common reference. *Make sure the unmapped reads are **NOT** filtered out (i.e. no `samtools view -F4 ...`)\n",
    "- `depth`: min depth threshold for calculating genome coverage (default 10X coverage; change as required)\n",
    "- `n_subsampled_reads`: number of reads to subsample from BAM files for plotting."
   ]
  },
  {
   "cell_type": "code",
   "execution_count": 1,
   "metadata": {
    "ExecuteTime": {
     "end_time": "2021-08-30T15:28:16.740988Z",
     "start_time": "2021-08-30T15:28:16.735537Z"
    }
   },
   "outputs": [],
   "source": [
    "# input params for notebook\n",
    "# adjust as needed\n",
    "n_subsampled_reads = 30000\n",
    "depth = 10\n",
    "inputdir = './'"
   ]
  },
  {
   "cell_type": "markdown",
   "metadata": {},
   "source": [
    "Imports for getting BAM files from `inputdir` and parsing BAM files"
   ]
  },
  {
   "cell_type": "code",
   "execution_count": 2,
   "metadata": {
    "ExecuteTime": {
     "end_time": "2021-08-30T15:28:16.998108Z",
     "start_time": "2021-08-30T15:28:16.742201Z"
    }
   },
   "outputs": [],
   "source": [
    "from typing import Tuple, Dict, List, Iterable\n",
    "from collections import defaultdict\n",
    "from pathlib import Path\n",
    "\n",
    "import logging\n",
    "\n",
    "import numpy as np\n",
    "import numpy.typing as npt\n",
    "import pandas as pd\n",
    "from tqdm.notebook import tqdm\n",
    "import pysam"
   ]
  },
  {
   "cell_type": "markdown",
   "metadata": {},
   "source": [
    "Should be using a recent version of numpy like version 1.21.2"
   ]
  },
  {
   "cell_type": "code",
   "execution_count": 3,
   "metadata": {
    "ExecuteTime": {
     "end_time": "2021-08-30T15:28:17.005192Z",
     "start_time": "2021-08-30T15:28:16.999368Z"
    }
   },
   "outputs": [
    {
     "data": {
      "text/plain": [
       "'1.21.2'"
      ]
     },
     "execution_count": 3,
     "metadata": {},
     "output_type": "execute_result"
    }
   ],
   "source": [
    "np.__version__"
   ]
  },
  {
   "cell_type": "code",
   "execution_count": 4,
   "metadata": {
    "ExecuteTime": {
     "end_time": "2021-08-30T15:28:17.019727Z",
     "start_time": "2021-08-30T15:28:17.006913Z"
    }
   },
   "outputs": [],
   "source": [
    "def get_read_mapping_coords(bam: pysam.libcalignmentfile.AlignmentFile) -> Dict[str, List[Tuple[int, int]]]:\n",
    "    \"\"\"Get coordinates for all reads.\n",
    "    \n",
    "    Unmapped reads will be present in output dict and have empty list of mapping coordinates.\n",
    "    \"\"\"\n",
    "    out = defaultdict(list)\n",
    "    for x in tqdm(bam.fetch(until_eof=True)):\n",
    "        if x.is_unmapped:\n",
    "            out[x.qname] = []\n",
    "        else:\n",
    "            out[x.qname].append((x.reference_start, x.reference_end))\n",
    "    return out\n",
    "\n",
    "\n",
    "def genomecov(reads: Iterable[str], \n",
    "              mapped: Dict[str, List[Tuple[int, int]]], \n",
    "              ref_len: int, \n",
    "              depth: int = 10) -> npt.NDArray[np.uint32]:\n",
    "    \"\"\"Get array of number of reference genome positions covered with at least `depth` X coverage adding one read at a time from `reads`.\"\"\"\n",
    "    out = np.zeros(len(reads))\n",
    "    arr = np.zeros(ref_len, dtype=np.uint32)\n",
    "    for idx, read in tqdm(enumerate(reads)):\n",
    "        mapping_coords = mapped[read]\n",
    "        if len(mapping_coords) == 2:\n",
    "            (r1s, r1e), (r2s, r2e) = mapping_coords\n",
    "            arr[r1s:r1e] = arr[r1s:r1e] + 1\n",
    "            arr[r2s:r2e] = arr[r2s:r2e] + 1\n",
    "        elif len(mapping_coords) == 1:\n",
    "            r1s, r1e = mapping_coords[0]\n",
    "            arr[r1s:r1e] = arr[r1s:r1e] + 1\n",
    "        elif len(mapping_coords) == 0:\n",
    "            continue\n",
    "        else:\n",
    "            print(idx, read, mapping_coords)\n",
    "            continue\n",
    "        out[idx] = (arr >= depth).sum()\n",
    "    return out\n",
    "\n",
    "\n",
    "def sample_read_ids(read_ids: Iterable[str], n: int = 50000) -> npt.NDArray[np.unicode_]:\n",
    "    \"\"\"Random sampling of read IDs\"\"\"\n",
    "    return np.random.choice(read_ids, size=n, replace=False)\n",
    "\n",
    "\n",
    "def subsampled_genomecov(\n",
    "    bam_path: Path,\n",
    "    n_subsampled: int = 50000,\n",
    "    depth: int = 10\n",
    ") -> Tuple[str, int, npt.NDArray[np.uint32]]:\n",
    "    bam = pysam.AlignmentFile(bam_path)\n",
    "    logging.info(f'Opened BAM file \"{bam_path}\" with pysam: {bam}')\n",
    "    ref_name = bam.references[0]\n",
    "    ref_len = bam.get_reference_length(ref_name)\n",
    "    logging.info(f'Reference \"{ref_name}\" with length {ref_len}')\n",
    "    logging.info(f'Getting read ids and mapping coordinates from \"{bam_path}\"')\n",
    "    read_coords = get_read_mapping_coords(bam)\n",
    "    read_ids = list(read_coords.keys())\n",
    "    logging.info(f'{len(read_ids)} read IDs parsed')\n",
    "    subsampled_read_ids = sample_read_ids(read_ids, n_subsampled)\n",
    "    logging.info(f'Subsampled {len(subsampled_read_ids)} read IDs for genome coverage calculation. Calculating genome coverage at {depth}X from subsampled reads.')\n",
    "    gcov_positions = genomecov(subsampled_read_ids, read_coords, ref_len, depth=depth)\n",
    "    gcov_proportion = gcov_positions / ref_len\n",
    "    return gcov_proportion"
   ]
  },
  {
   "cell_type": "code",
   "execution_count": 5,
   "metadata": {
    "ExecuteTime": {
     "end_time": "2021-08-30T15:28:17.028215Z",
     "start_time": "2021-08-30T15:28:17.020794Z"
    }
   },
   "outputs": [],
   "source": [
    "logging.basicConfig(level=logging.INFO)"
   ]
  },
  {
   "cell_type": "markdown",
   "metadata": {},
   "source": [
    "Look for bam files in input directory"
   ]
  },
  {
   "cell_type": "code",
   "execution_count": 6,
   "metadata": {
    "ExecuteTime": {
     "end_time": "2021-08-30T15:28:17.037388Z",
     "start_time": "2021-08-30T15:28:17.029312Z"
    }
   },
   "outputs": [],
   "source": [
    "inputdir = Path(inputdir)\n",
    "bam_paths = list(inputdir.glob('*.bam'))"
   ]
  },
  {
   "cell_type": "code",
   "execution_count": 7,
   "metadata": {
    "ExecuteTime": {
     "end_time": "2021-08-30T15:28:17.046542Z",
     "start_time": "2021-08-30T15:28:17.038485Z"
    }
   },
   "outputs": [
    {
     "data": {
      "text/plain": [
       "[PosixPath('Sample1.bam'), PosixPath('Sample2.bam')]"
      ]
     },
     "execution_count": 7,
     "metadata": {},
     "output_type": "execute_result"
    }
   ],
   "source": [
    "bam_paths"
   ]
  },
  {
   "cell_type": "markdown",
   "metadata": {},
   "source": [
    "Get genome coverage for each sample/BAM file"
   ]
  },
  {
   "cell_type": "code",
   "execution_count": 8,
   "metadata": {
    "ExecuteTime": {
     "end_time": "2021-08-30T15:28:25.302599Z",
     "start_time": "2021-08-30T15:28:17.048132Z"
    }
   },
   "outputs": [
    {
     "name": "stderr",
     "output_type": "stream",
     "text": [
      "INFO:root:Opened BAM file \"Sample1.bam\" with pysam: <pysam.libcalignmentfile.AlignmentFile object at 0x7f82f839e3a0>\n",
      "INFO:root:Reference \"MN908947.3\" with length 29903\n",
      "INFO:root:Getting read ids and mapping coordinates from \"Sample1.bam\"\n"
     ]
    },
    {
     "data": {
      "application/vnd.jupyter.widget-view+json": {
       "model_id": "0b467d2456744d9f930a079983c21700",
       "version_major": 2,
       "version_minor": 0
      },
      "text/plain": [
       "HBox(children=(HTML(value=''), FloatProgress(value=1.0, bar_style='info', layout=Layout(width='20px'), max=1.0…"
      ]
     },
     "metadata": {},
     "output_type": "display_data"
    },
    {
     "name": "stderr",
     "output_type": "stream",
     "text": [
      "INFO:root:601441 read IDs parsed\n",
      "INFO:root:Subsampled 30000 read IDs for genome coverage calculation. Calculating genome coverage at 10X from subsampled reads.\n"
     ]
    },
    {
     "name": "stdout",
     "output_type": "stream",
     "text": [
      "\n"
     ]
    },
    {
     "data": {
      "application/vnd.jupyter.widget-view+json": {
       "model_id": "5efa85b08a9a4cd580590eaa8ec05f6a",
       "version_major": 2,
       "version_minor": 0
      },
      "text/plain": [
       "HBox(children=(HTML(value=''), FloatProgress(value=1.0, bar_style='info', layout=Layout(width='20px'), max=1.0…"
      ]
     },
     "metadata": {},
     "output_type": "display_data"
    },
    {
     "name": "stderr",
     "output_type": "stream",
     "text": [
      "INFO:root:Opened BAM file \"Sample2.bam\" with pysam: <pysam.libcalignmentfile.AlignmentFile object at 0x7f82abfdfa60>\n",
      "INFO:root:Reference \"MN908947.3\" with length 29903\n",
      "INFO:root:Getting read ids and mapping coordinates from \"Sample2.bam\"\n"
     ]
    },
    {
     "name": "stdout",
     "output_type": "stream",
     "text": [
      "\n"
     ]
    },
    {
     "data": {
      "application/vnd.jupyter.widget-view+json": {
       "model_id": "5fee0351564342a5b3247623798f049f",
       "version_major": 2,
       "version_minor": 0
      },
      "text/plain": [
       "HBox(children=(HTML(value=''), FloatProgress(value=1.0, bar_style='info', layout=Layout(width='20px'), max=1.0…"
      ]
     },
     "metadata": {},
     "output_type": "display_data"
    },
    {
     "name": "stderr",
     "output_type": "stream",
     "text": [
      "INFO:root:601462 read IDs parsed\n",
      "INFO:root:Subsampled 30000 read IDs for genome coverage calculation. Calculating genome coverage at 10X from subsampled reads.\n"
     ]
    },
    {
     "name": "stdout",
     "output_type": "stream",
     "text": [
      "\n"
     ]
    },
    {
     "data": {
      "application/vnd.jupyter.widget-view+json": {
       "model_id": "b1eeff82629c4019b95eda97e79f586b",
       "version_major": 2,
       "version_minor": 0
      },
      "text/plain": [
       "HBox(children=(HTML(value=''), FloatProgress(value=1.0, bar_style='info', layout=Layout(width='20px'), max=1.0…"
      ]
     },
     "metadata": {},
     "output_type": "display_data"
    },
    {
     "name": "stdout",
     "output_type": "stream",
     "text": [
      "\n"
     ]
    }
   ],
   "source": [
    "\n",
    "sample_gcov = {}\n",
    "for p in bam_paths:\n",
    "    sample_gcov[p.stem] = subsampled_genomecov(p, n_subsampled=n_subsampled_reads, depth=depth)"
   ]
  },
  {
   "cell_type": "markdown",
   "metadata": {},
   "source": [
    "# Figures start here"
   ]
  },
  {
   "cell_type": "markdown",
   "metadata": {},
   "source": [
    "Manual way using matplotlib directly"
   ]
  },
  {
   "cell_type": "code",
   "execution_count": 9,
   "metadata": {
    "ExecuteTime": {
     "end_time": "2021-08-30T15:28:25.651949Z",
     "start_time": "2021-08-30T15:28:25.303648Z"
    }
   },
   "outputs": [],
   "source": [
    "import matplotlib.pyplot as plt\n",
    "import matplotlib.ticker as mtick\n",
    "import matplotlib.scale as mscale\n",
    "import seaborn as sns"
   ]
  },
  {
   "cell_type": "code",
   "execution_count": 10,
   "metadata": {
    "ExecuteTime": {
     "end_time": "2021-08-30T15:28:25.655878Z",
     "start_time": "2021-08-30T15:28:25.652918Z"
    }
   },
   "outputs": [],
   "source": [
    "sns.set_theme(context='talk', style='white', )"
   ]
  },
  {
   "cell_type": "code",
   "execution_count": 11,
   "metadata": {
    "ExecuteTime": {
     "end_time": "2021-08-30T15:28:25.666416Z",
     "start_time": "2021-08-30T15:28:25.657152Z"
    }
   },
   "outputs": [],
   "source": [
    "def color_palette_cycle(palette='Set1'):\n",
    "    set1 = list(sns.color_palette(palette))\n",
    "    i = 0\n",
    "    while True:\n",
    "        if i >= len(set1):\n",
    "            i = 0\n",
    "        yield set1[i]\n",
    "        i += 1"
   ]
  },
  {
   "cell_type": "code",
   "execution_count": 12,
   "metadata": {
    "ExecuteTime": {
     "end_time": "2021-08-30T15:28:25.926411Z",
     "start_time": "2021-08-30T15:28:25.667503Z"
    }
   },
   "outputs": [
    {
     "data": {
      "image/png": "[encoded data removed]",
      "text/plain": [
       "<Figure size 720x576 with 1 Axes>"
      ]
     },
     "metadata": {},
     "output_type": "display_data"
    }
   ],
   "source": [
    "fig, ax1 = plt.subplots(figsize=(10,8))\n",
    "\n",
    "for color, (sample, gcov) in zip(color_palette_cycle(), sample_gcov.items()):\n",
    "    idx = range(len(gcov))\n",
    "    ax1.plot(idx, gcov * 100, color=color, label=sample, alpha=0.5)\n",
    "ax1.yaxis.set_major_formatter(mtick.PercentFormatter())\n",
    "ax1.xaxis.set_minor_locator(mtick.AutoMinorLocator())\n",
    "ax1.yaxis.set_minor_locator(mtick.AutoMinorLocator())\n",
    "ax1.xaxis.tick_bottom()\n",
    "ax1.yaxis.tick_left()\n",
    "ax1.set_ylabel(f'Genome Coverage (>={depth}X)')\n",
    "ax1.set_xlabel('Number of reads')\n",
    "\n",
    "ax1.legend(loc=4, fontsize='small')\n",
    "\n",
    "fig.tight_layout()\n",
    "plt.show()"
   ]
  },
  {
   "cell_type": "markdown",
   "metadata": {},
   "source": [
    "## Plots using plotnine (ggplot2 for Python)\n",
    "\n",
    "This is a more \"ggplot2\" like approach with similar results as above. The data just needs to be transformed into a Pandas DataFrame prior to using with plotnine.\n",
    "\n",
    "Install plotnine with:\n",
    "\n",
    "```bash\n",
    "pip install plotnine\n",
    "```"
   ]
  },
  {
   "cell_type": "code",
   "execution_count": 13,
   "metadata": {
    "ExecuteTime": {
     "end_time": "2021-08-30T15:28:25.929941Z",
     "start_time": "2021-08-30T15:28:25.927442Z"
    }
   },
   "outputs": [],
   "source": [
    "def gcovs_to_df(sample_gcov: Dict[str, np.ndarray]) -> pd.DataFrame:\n",
    "    dfs = []\n",
    "    for sample, gcov in sample_gcov.items():\n",
    "        df = pd.DataFrame(zip(range(1, len(gcov)+1), gcov))\n",
    "        df.columns = ['n_reads', 'genome_coverage']\n",
    "        df['sample'] = sample\n",
    "        dfs.append(df)\n",
    "    return pd.concat(dfs)"
   ]
  },
  {
   "cell_type": "code",
   "execution_count": 14,
   "metadata": {
    "ExecuteTime": {
     "end_time": "2021-08-30T15:28:25.968837Z",
     "start_time": "2021-08-30T15:28:25.930735Z"
    }
   },
   "outputs": [],
   "source": [
    "df = gcovs_to_df(sample_gcov)"
   ]
  },
  {
   "cell_type": "code",
   "execution_count": 15,
   "metadata": {
    "ExecuteTime": {
     "end_time": "2021-08-30T15:28:25.980651Z",
     "start_time": "2021-08-30T15:28:25.969728Z"
    }
   },
   "outputs": [
    {
     "data": {
      "text/html": [
       "<div>\n",
       "<style scoped>\n",
       "    .dataframe tbody tr th:only-of-type {\n",
       "        vertical-align: middle;\n",
       "    }\n",
       "\n",
       "    .dataframe tbody tr th {\n",
       "        vertical-align: top;\n",
       "    }\n",
       "\n",
       "    .dataframe thead th {\n",
       "        text-align: right;\n",
       "    }\n",
       "</style>\n",
       "<table border=\"1\" class=\"dataframe\">\n",
       "  <thead>\n",
       "    <tr style=\"text-align: right;\">\n",
       "      <th></th>\n",
       "      <th>n_reads</th>\n",
       "      <th>genome_coverage</th>\n",
       "      <th>sample</th>\n",
       "    </tr>\n",
       "  </thead>\n",
       "  <tbody>\n",
       "    <tr>\n",
       "      <th>0</th>\n",
       "      <td>1</td>\n",
       "      <td>0.000000</td>\n",
       "      <td>Sample1</td>\n",
       "    </tr>\n",
       "    <tr>\n",
       "      <th>1</th>\n",
       "      <td>2</td>\n",
       "      <td>0.000000</td>\n",
       "      <td>Sample1</td>\n",
       "    </tr>\n",
       "    <tr>\n",
       "      <th>2</th>\n",
       "      <td>3</td>\n",
       "      <td>0.000000</td>\n",
       "      <td>Sample1</td>\n",
       "    </tr>\n",
       "    <tr>\n",
       "      <th>3</th>\n",
       "      <td>4</td>\n",
       "      <td>0.000000</td>\n",
       "      <td>Sample1</td>\n",
       "    </tr>\n",
       "    <tr>\n",
       "      <th>4</th>\n",
       "      <td>5</td>\n",
       "      <td>0.000000</td>\n",
       "      <td>Sample1</td>\n",
       "    </tr>\n",
       "    <tr>\n",
       "      <th>...</th>\n",
       "      <td>...</td>\n",
       "      <td>...</td>\n",
       "      <td>...</td>\n",
       "    </tr>\n",
       "    <tr>\n",
       "      <th>29995</th>\n",
       "      <td>29996</td>\n",
       "      <td>0.977862</td>\n",
       "      <td>Sample2</td>\n",
       "    </tr>\n",
       "    <tr>\n",
       "      <th>29996</th>\n",
       "      <td>29997</td>\n",
       "      <td>0.977862</td>\n",
       "      <td>Sample2</td>\n",
       "    </tr>\n",
       "    <tr>\n",
       "      <th>29997</th>\n",
       "      <td>29998</td>\n",
       "      <td>0.977862</td>\n",
       "      <td>Sample2</td>\n",
       "    </tr>\n",
       "    <tr>\n",
       "      <th>29998</th>\n",
       "      <td>29999</td>\n",
       "      <td>0.977862</td>\n",
       "      <td>Sample2</td>\n",
       "    </tr>\n",
       "    <tr>\n",
       "      <th>29999</th>\n",
       "      <td>30000</td>\n",
       "      <td>0.977862</td>\n",
       "      <td>Sample2</td>\n",
       "    </tr>\n",
       "  </tbody>\n",
       "</table>\n",
       "<p>60000 rows × 3 columns</p>\n",
       "</div>"
      ],
      "text/plain": [
       "       n_reads  genome_coverage   sample\n",
       "0            1         0.000000  Sample1\n",
       "1            2         0.000000  Sample1\n",
       "2            3         0.000000  Sample1\n",
       "3            4         0.000000  Sample1\n",
       "4            5         0.000000  Sample1\n",
       "...        ...              ...      ...\n",
       "29995    29996         0.977862  Sample2\n",
       "29996    29997         0.977862  Sample2\n",
       "29997    29998         0.977862  Sample2\n",
       "29998    29999         0.977862  Sample2\n",
       "29999    30000         0.977862  Sample2\n",
       "\n",
       "[60000 rows x 3 columns]"
      ]
     },
     "execution_count": 15,
     "metadata": {},
     "output_type": "execute_result"
    }
   ],
   "source": [
    "df"
   ]
  },
  {
   "cell_type": "code",
   "execution_count": 16,
   "metadata": {
    "ExecuteTime": {
     "end_time": "2021-08-30T15:28:26.243689Z",
     "start_time": "2021-08-30T15:28:25.981427Z"
    }
   },
   "outputs": [],
   "source": [
    "from plotnine import *"
   ]
  },
  {
   "cell_type": "code",
   "execution_count": 17,
   "metadata": {
    "ExecuteTime": {
     "end_time": "2021-08-30T15:28:26.250485Z",
     "start_time": "2021-08-30T15:28:26.244652Z"
    }
   },
   "outputs": [
    {
     "name": "stderr",
     "output_type": "stream",
     "text": [
      "INFO:numexpr.utils:Note: NumExpr detected 16 cores but \"NUMEXPR_MAX_THREADS\" not set, so enforcing safe limit of 8.\n",
      "INFO:numexpr.utils:NumExpr defaulting to 8 threads.\n"
     ]
    }
   ],
   "source": [
    "df.genome_coverage = df.genome_coverage * 100"
   ]
  },
  {
   "cell_type": "code",
   "execution_count": 18,
   "metadata": {
    "ExecuteTime": {
     "end_time": "2021-08-30T15:28:26.630671Z",
     "start_time": "2021-08-30T15:28:26.251492Z"
    }
   },
   "outputs": [
    {
     "data": {
      "image/png": "[encoded data removed]",
      "text/plain": [
       "<Figure size 640x480 with 1 Axes>"
      ]
     },
     "metadata": {},
     "output_type": "display_data"
    },
    {
     "data": {
      "text/plain": [
       "<ggplot: (8762430651353)>"
      ]
     },
     "execution_count": 18,
     "metadata": {},
     "output_type": "execute_result"
    }
   ],
   "source": [
    "(ggplot(df, aes(x='n_reads', y='genome_coverage')) \n",
    " + theme_bw()\n",
    " + geom_line(aes(color='sample'), alpha=0.5)\n",
    " + theme(axis_ticks_minor=element_line(color='gray', size=0.5))\n",
    " + xlab('# Reads')\n",
    " + ylab('Genome Coverage (%)\\n(>=10X depth)')\n",
    ")"
   ]
  },
  {
   "cell_type": "code",
   "execution_count": null,
   "metadata": {},
   "outputs": [],
   "source": []
  }
 ],
 "metadata": {
  "kernelspec": {
   "display_name": "Python 3",
   "language": "python",
   "name": "python3"
  },
  "language_info": {
   "codemirror_mode": {
    "name": "ipython",
    "version": 3
   },
   "file_extension": ".py",
   "mimetype": "text/x-python",
   "name": "python",
   "nbconvert_exporter": "python",
   "pygments_lexer": "ipython3",
   "version": "3.9.0"
  }
 },
 "nbformat": 4,
 "nbformat_minor": 4
}
